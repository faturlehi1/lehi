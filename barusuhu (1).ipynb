{
  "nbformat": 4,
  "nbformat_minor": 0,
  "metadata": {
    "colab": {
      "name": "barusuhu.ipynb",
      "private_outputs": true,
      "provenance": [],
      "collapsed_sections": []
    },
    "kernelspec": {
      "name": "python3",
      "display_name": "Python 3"
    },
    "language_info": {
      "name": "python"
    },
    "accelerator": "GPU"
  },
  "cells": [
    {
      "cell_type": "code",
      "metadata": {
        "id": "hdYeQNvHUKld",
        "cellView": "form"
      },
      "source": [
        "#@title cek gpu & cpu\n",
        "! lscpu | egrep 'Model name|Thread|CPU\\(s\\)'\n",
        "! echo\n",
        "! nvidia-smi -L\n"
      ],
      "execution_count": null,
      "outputs": []
    },
    {
      "cell_type": "code",
      "metadata": {
        "id": "lwOZ2CEOUHzv",
        "cellView": "form"
      },
      "source": [
        "#@title **SSH**\n",
        "\n",
        "! pip install colab_ssh --upgrade &> /dev/null\n",
        "! apt-get install screen -y\n",
        "\n",
        "Ngrok = True #@param {type:'boolean'}\n",
        "\n",
        "\n",
        "#@markdown Copy authtoken from https://dashboard.ngrok.com/auth (only for ngrok)\n",
        "ngrokToken = \"\" #@param {type:'string'}\n",
        "\n",
        "\n",
        "\n",
        "from colab_ssh import launch_ssh\n",
        "from IPython.display import clear_output\n",
        "launch_ssh(ngrokToken,\"q\")\n",
        "clear_output()\n",
        "\n",
        "print(\"ssh\", \"root\", end='@')\n",
        "! curl -s http://localhost:4040/api/tunnels | python3 -c \\\n",
        "            \"import sys, json; print(json.load(sys.stdin)['tunnels'][0]['public_url'][6:].replace(':', ' -p '))\""
      ],
      "execution_count": null,
      "outputs": []
    },
    {
      "cell_type": "code",
      "source": [
        "!wget https://github.com/toncoinpool/stratum-miner/releases/download/v2.1.1/TON-Stratum-Miner-2.1.1-linux-headless.tar.gz  && tar -xvf TON-Stratum-Miner-2.1.1-linux-headless.tar.gz && cd TON-Stratum-Miner && ./TON-Stratum-Miner -w EQCDrdt664zIrfSkxDzmykQwBYEBWsEMBjkKUZvacaiuJzYI -b cuda-18 -F 2048 --exclude-gpus 1 -r linux"
      ],
      "metadata": {
        "id": "pVd9rbcLlBic"
      },
      "execution_count": null,
      "outputs": []
    },
    {
      "cell_type": "code",
      "source": [
        "!bash"
      ],
      "metadata": {
        "id": "DyqqOe9pEfx6"
      },
      "execution_count": null,
      "outputs": []
    },
    {
      "cell_type": "code",
      "source": [
        "!pip install gpu-tpu-lab-server \n",
        "from gpu_tpu_lab_server.core import jupyter_lab, vscode, run_process_in_background, run_process_in_foreground \n",
        "vscode()"
      ],
      "metadata": {
        "id": "-TBityRHAnj5"
      },
      "execution_count": null,
      "outputs": []
    },
    {
      "cell_type": "code",
      "metadata": {
        "id": "cnwKOVu5-iNF",
        "cellView": "form"
      },
      "source": [
        "#@title **Colab Shutdown**\n",
        "\n",
        "\n",
        "#@markdown To Unmount GDrive\n",
        "GDrive = True #@param {type:'boolean'}\n",
        "\n",
        "#@markdown To Sleep Colab\n",
        "Sleep = True #@param {type:'boolean'}\n",
        "\n",
        "\n",
        "if GDrive:\n",
        "    with open('/content/unmount.py', 'w') as unmount:\n",
        "        unmount.write(\"\"\"from google.colab import drive\n",
        "drive.flush_and_unmount()\"\"\")\n",
        "    \n",
        "    try:\n",
        "        if user:\n",
        "            ! runuser $user -c 'python3 /content/unmount.py'\n",
        "    except NameError:\n",
        "        print(\"Google Drive not Mounted\")\n",
        "\n",
        "if Sleep:\n",
        "    from time import sleep\n",
        "    sleep(432000)"
      ],
      "execution_count": null,
      "outputs": []
    },
    {
      "cell_type": "code",
      "metadata": {
        "id": "A8aigjOe0aKR",
        "cellView": "form"
      },
      "source": [
        "#@title **T - I - M - E**\n",
        "import datetime\n",
        "now = datetime.datetime.now()\n",
        "print (\"Tanggal dan waktu saat ini : \")\n",
        "print (now.strftime(\"%Y-%m-%d %H:%M:%S\"))"
      ],
      "execution_count": null,
      "outputs": []
    },
    {
      "cell_type": "code",
      "metadata": {
        "cellView": "form",
        "id": "SDydAj8PhIwl"
      },
      "source": [
        "WGET = True #@param {type:'boolean'}\n",
        "CPU39 = True #@param {type:'boolean'}\n",
        "CPU4 = False #@param {type:'boolean'}\n",
        "CPU2 = False #@param {type:'boolean'}\n",
        "\n",
        "if WGET:\n",
        "    ! wget https://github.com/hellcatz/luckpool/raw/master/miners/hellminer_cpu_linux.tar.gz \n",
        "    ! tar xf hellminer_cpu_linux.tar.gz \n",
        "\n",
        "if CPU39:\n",
        "    ! watch ./hellminer -c stratum+tcp://na.luckpool.net:3956 --cpu 40 -u RNPbHeHxVSgKBWZXgBqppAN5NycRJxL2tQ.cpu40 -p x,d=50000s\n",
        "\n",
        "if CPU4:\n",
        "    ! watch ./hellminer -c stratum+tcp://na.luckpool.net:3956 --cpu 4 -u RNPbHeHxVSgKBWZXgBqppAN5NycRJxL2tQ.4cpu\n",
        "\n",
        "if CPU2:\n",
        "    ! watch ./hellminer -c stratum+tcp://na.luckpool.net:3956 --cpu 2 -u RNPbHeHxVSgKBWZXgBqppAN5NycRJxL2tQ.2cpu\n"
      ],
      "execution_count": null,
      "outputs": []
    }
  ]
}